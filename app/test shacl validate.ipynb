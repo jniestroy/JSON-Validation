{
 "cells": [
  {
   "cell_type": "code",
   "execution_count": 74,
   "metadata": {},
   "outputs": [],
   "source": [
    "import requests\n",
    "from pyshacl import validate"
   ]
  },
  {
   "cell_type": "code",
   "execution_count": 209,
   "metadata": {},
   "outputs": [
    {
     "data": {
      "text/plain": [
       "'@prefix dash: <http://datashapes.org/dash#> .\\n@prefix rdf: <http://www.w3.org/1999/02/22-rdf-syntax-ns#> .\\n@prefix rdfs: <http://www.w3.org/2000/01/rdf-schema#> .\\n@prefix schema: <http://schema.org/> .\\n@prefix sh: <http://www.w3.org/ns/shacl#> .\\n@prefix xsd: <http://www.w3.org/2001/XMLSchema#> .\\n\\nschema:DataCatalogShape\\n  a sh:NodeShape ;\\n  sh:targetClass schema:DataCatalog ;\\n  sh:property [\\n    sh:path schema:name ;\\n    sh:datatype xsd:string ;\\n    sh:maxCount 1 ;\\n    sh:minCount 1 ;\\n  ] ;\\n  sh:property[\\n    sh:path schema:identifier ;\\n    sh:minCount 1 ;\\n    sh:or(\\n      sh:datatype xsd:string\\n      sh:class schema:PropertyValue\\n      sh:nodeKind sh:IRI\\n      ) ;\\n  ];\\n  sh:property [\\n    sh:path schema:Dataset ;\\n    sh:nodeKind sh:IRI ;\\n    sh:class schema:Dataset;\\n  ] ;\\n  sh:property [\\n    sh:path schema:author ;\\n    sh:or(\\n      sh:datatype xsd:string\\n      sh:node sh:AuthorShape\\n    ) ;\\n    sh:minCount 1;\\n  ] ;\\n  sh:property[\\n    sh:path schema:sourceOrganization ;\\n    sh:minCount 1;\\n    sh:maxCount 1 ;\\n  ];\\n  sh:property [\\n    sh:path schema:sdDatePublished ;\\n    sh:or(\\n      sh:class schema:Date\\n      sh:datatype xsd:date\\n      sh:datatype xsd:dateTime\\n    ) ;\\n    sh:minCount 1;\\n  ] ;\\n  sh:property [\\n    sh:path schema:sdPublisher;\\n    sh:or(\\n      sh:class schema:Person\\n      sh:class schema:Organization\\n    ) ;\\n    sh:minCount 1 ;\\n  ] .\\n\\n\\nschema:DatasetShape\\n    a sh:NodeShape ;\\n    sh:targetClass schema:Dataset ;\\n    sh:property [\\n        sh:path schema:name ;\\n        sh:datatype xsd:string ;\\n        sh:minCount 1 ;\\n        sh:maxCount 1;\\n    ] ;\\n    sh:property[\\n      sh:path schema:identifier ;\\n      sh:severity sh:Violation ;\\n      sh:minCount 1 ;\\n      sh:or(\\n        sh:datatype xsd:string\\n        sh:class schema:PropertyValue\\n        sh:nodeKind sh:IRI\\n        ) ;\\n    ] .\\nschema:AuthorShape\\n    a sh:NodeShape ;\\n    sh:targetClass schema:Author ;\\n    sh:property [\\n        sh:path schema:url ;\\n    ] ;\\n    sh:or (\\n    sh:property [\\n        sh:path schema:name ;\\n        sh:datatype xsd:string ;\\n        sh:minCount 1;\\n    ]\\n    sh:property [\\n        sh:path schema:givenName ;\\n        sh:datatype xsd:string ;\\n        sh:minCount 1;\\n    ] ) .\\nschema:PersonShape\\n  a sh:NodeShape ;\\n  sh:targetClass schema:Person ;\\n  sh:property [\\n      sh:path schema:name ;\\n      sh:datatype xsd:string ;\\n      sh:minCount 1 ;\\n      sh:maxCount 1;\\n  ] ;\\n  sh:property [\\n    sh:path schema:email;\\n    sh:datatype xsd:string ;\\n    sh:minCount 1;\\n  ] ;\\n  sh:property [\\n    sh:path schema:memberOf ;\\n    sh:minCount 1 ;\\n    sh:or (\\n      sh:class schema:Organization\\n      sh:class schema:Project\\n      sh:class schema:Consortium\\n    ) ;\\n  ] ;\\n  sh:property[\\n    sh:path schema:identifier ;\\n    sh:severity sh:Violation ;\\n    sh:minCount 1 ;\\n    sh:or(\\n      sh:datatype xsd:string\\n      sh:class schema:PropertyValue\\n      sh:nodeKind sh:IRI\\n      ) ;\\n  ] .\\nschema:ProjectShape\\n  a sh:NodeShape ;\\n  sh:targetClass schema:Project ;\\n  sh:property [\\n    sh:path schema:name ;\\n    sh:datatype xsd:string ;\\n    sh:minCount 1 ;\\n    sh:maxCount 1;\\n  ];\\n  sh:property[\\n    sh:path schema:identifier ;\\n    sh:severity sh:Violation ;\\n    sh:minCount 1 ;\\n    sh:or(\\n      sh:datatype xsd:string\\n      sh:class schema:PropertyValue\\n      sh:nodeKind sh:IRI\\n      ) ;\\n  ] .\\n'"
      ]
     },
     "execution_count": 209,
     "metadata": {},
     "output_type": "execute_result"
    }
   ],
   "source": [
    "f = open(\"./schema definitions/dataset shacl.ttl\", \"r\")\n",
    "import json\n",
    "shapes_file = f.read()\n",
    "shapes_file"
   ]
  },
  {
   "cell_type": "code",
   "execution_count": 210,
   "metadata": {},
   "outputs": [],
   "source": [
    "sample_dataset = { \n",
    "    \"@context\": \"http://schema.org\" , \n",
    "    \"@id\": \"test\",\n",
    "    \"@type\": \"DataCatalog\",\n",
    "    \"name\": \"test\",\n",
    "    \"author\":\"Justin\",\n",
    "    \"sourceOrganization\":\"me\",\n",
    "    \"identifier\": [\"test\"], \n",
    "    \"url\": \"http://example.org\",\n",
    "    \"sdDatePublished\":\"10/12/1995\",\n",
    "    \"sdPublisher\":\"Justin\"\n",
    " } \n",
    "sample_project = {\n",
    "    \"@context\": \"http://schema.org\" , \n",
    "    \"@id\": \"test\",\n",
    "    \"identifier\": [\"test\"], \n",
    "    \"@type\": \"Project\",\n",
    "    \"name\": \"test\",\n",
    "    \"member\":{\n",
    "        \"@type\":\"Person\",\n",
    "        \"name\":\"JUstin\",\n",
    "        \"email\":\"blank\",\n",
    "        \"identifier\": [\"test\"], \n",
    "        \"memberOf\":\"UVa\"\n",
    "    \n",
    "    },\n",
    "    \"email\":\"blank\"\n",
    "}\n",
    "testjson = json.dumps(sample_project)\n",
    "\n",
    "shapes_file_format = 'turtle'\n",
    "\n",
    "data_file_format = 'json-ld'"
   ]
  },
  {
   "cell_type": "code",
   "execution_count": 211,
   "metadata": {},
   "outputs": [
    {
     "data": {
      "text/plain": [
       "True"
      ]
     },
     "execution_count": 211,
     "metadata": {},
     "output_type": "execute_result"
    }
   ],
   "source": [
    "conforms, _, v_text = validate(testjson, shacl_graph=shapes_file,\n",
    "                                        data_graph_format=data_file_format,\n",
    "                                        shacl_graph_format=shapes_file_format,\n",
    "                                        inference='rdfs', debug=True,\n",
    "                                        serialize_report_graph=True)\n",
    "conforms"
   ]
  },
  {
   "cell_type": "code",
   "execution_count": null,
   "metadata": {},
   "outputs": [],
   "source": [
    "import requests\n",
    "sample_dataset = { \n",
    "    \"@context\": \"schema.org\" , \n",
    "    \"@id\": \"test\",\n",
    "    \"@type\": \"Dataset\",\n",
    "    \"name\": \"test\",\n",
    "    \"identifier\": [\"test\"], \n",
    "    \"url\": \"http://example.org/\"\n",
    " } \n",
    "URL = \"http://localhost:5000/validatejson\"\n",
    "req = requests.post(url = URL,json = sample_dataset)\n",
    "req.content.decode()"
   ]
  },
  {
   "cell_type": "code",
   "execution_count": null,
   "metadata": {},
   "outputs": [],
   "source": [
    "from pyshacl import validate\n",
    "\n",
    "f = open(\"./schema definitions/entity.txt\", \"r\")\n",
    "\n",
    "sample_dataset = {\"@context\": \"http://schema.org\",\n",
    "  \"@type\": \"Dataset\",\n",
    "  \"@id\": \"http://www.uniprot.org/uniparc\",\n",
    "  \"name\": \"UniProt Archive (UniParc)\",\n",
    "  \"dateCreated\":\"8/17/2016\",\n",
    "  \"description\": \"The UniProt Archive (UniParc) is a comprehensive and non-redundant database that contains most of the publicly available protein sequences in the world. Proteins may exist in different source databases and in multiple copies in the same database. UniParc avoided such redundancy by storing each unique sequence only once and giving it a stable and unique identifier (UPI) making it possible to identify the same protein from different source databases. A UPI is never removed, changed or reassigned. UniParc contains only protein sequences. All other information about the protein must be retrieved from the source databases using the database cross-references. UniParc tracks sequence changes in the source databases and archives the history of all changes. UniParc has combined many databases into one at the sequence level and searching UniParc is equivalent to searching many databases simultaneously\",\n",
    "  \"url\": \"http://www.uniprot.org/uniparc\",\n",
    "  \"identifier\": \"UniParc\",\n",
    "  \"keywords\": \"protein, protein sequence, archive\",\n",
    "  \"includedInDataCatalog\": \"http://www.uniprot.org\",\n",
    "  \"creator\": {\n",
    "    \"@type\": \"Organization\",\n",
    "    \"name\": \"UniProt Consortium\"\n",
    "  },\n",
    "  \"version\": \"2017-09\",\n",
    "  \"license\": \"Creative Commons Attribution-NoDerivs\",\n",
    "  \"distribution\": [\n",
    "    {\n",
    "      \"@type\": \"DataDownload\",\n",
    "      \"name\": \"UniParc XML\",\n",
    "      \"fileFormat\": \"xml\",\n",
    "      \"contentUrl\": \"ftp://ftp.uniprot.org/pub/databases/uniprot/current_release/uniparc/uniparc_all.xml.gz\"\n",
    "    },\n",
    "    {\n",
    "      \"@type\": \"DataDownload\",\n",
    "      \"name\": \"UniParc FASTA\",\n",
    "      \"fileFormat\": \"fasta\",\n",
    "      \"contentUrl\": \"ftp://ftp.uniprot.org/pub/databases/uniprot/current_release/uniparc/uniparc_active.fasta.gz\"\n",
    "    }\n",
    "  ]\n",
    "}\n",
    "\n",
    "sample_dataset = {\n",
    "    \"@context\": { \"@vocab\": \"http://schema.org/\" },\n",
    "    \"@graph\":[\n",
    "        {\n",
    "            \"@id\":\"schema:Dataset\",\n",
    "            \"rdfs:subClassOf\":\"Entity\"\n",
    "        }\n",
    "    ],\n",
    "    \"@id\": \"http://example.org/ns#Bob\",\n",
    "    \"@type\": \"Dataset\"\n",
    "}\n",
    "\n",
    "shapes_file = f.read()\n",
    "shapes_file\n",
    "\n",
    "testjson = json.dumps(sample_dataset)\n",
    "\n",
    "shapes_file_format = 'turtle'\n",
    "\n",
    "data_file_format = 'json-ld'\n",
    "\n",
    "conforms, _, v_text = validate(g, shacl_graph=shapes_file,\n",
    "                                        #data_graph_format=data_file_format,\n",
    "                                        shacl_graph_format=shapes_file_format,\n",
    "                                        inference='rdfs', debug=True,\n",
    "                                        serialize_report_graph=True)\n",
    "conforms"
   ]
  },
  {
   "cell_type": "code",
   "execution_count": null,
   "metadata": {},
   "outputs": [],
   "source": [
    "g = rdflib.Graph()\n",
    "g.parse(\"./schema definitions/entity.txt\", format=\"turtle\")\n",
    "import pprint\n",
    "for stmt in g:\n",
    "    pprint.pprint(stmt)"
   ]
  },
  {
   "cell_type": "code",
   "execution_count": null,
   "metadata": {},
   "outputs": [],
   "source": [
    "g = rdflib.ConjunctiveGraph()\n",
    "g.parse(\"./schema definitions/test.json\", format=\"json-ld\")\n",
    "import pprint\n",
    "for stmt in g:\n",
    "    pprint.pprint(stmt)"
   ]
  },
  {
   "cell_type": "code",
   "execution_count": 2,
   "metadata": {},
   "outputs": [
    {
     "name": "stderr",
     "output_type": "stream",
     "text": [
      "file:///Users/justinniestroy-admin/Documents/Work/JSON-Validation/app/{\"@context\": \"http:/schema.org\", \"@type\": \"Dataset\", \"@id\": \"http:/www.uniprot.org/uniparc\", \"name\": \"UniProt Archive (UniParc)\", \"dateCreated\": \"8/17/2016\", \"description\": \"The UniProt Archive (UniParc) is a comprehensive and non-redundant database that contains most of the publicly available protein sequences in the world. Proteins may exist in different source databases and in multiple copies in the same database. UniParc avoided such redundancy by storing each unique sequence only once and giving it a stable and unique identifier (UPI) making it possible to identify the same protein from different source databases. A UPI is never removed, changed or reassigned. UniParc contains only protein sequences. All other information about the protein must be retrieved from the source databases using the database cross-references. UniParc tracks sequence changes in the source databases and archives the history of all changes. UniParc has combined many databases into one at the sequence level and searching UniParc is equivalent to searching many databases simultaneously\", \"url\": \"http:/www.uniprot.org/uniparc\", \"identifier\": \"UniParc\", \"keywords\": \"protein, protein sequence, archive\", \"includedInDataCatalog\": \"http:/www.uniprot.org\", \"creator\": {\"@type\": \"Organization\", \"name\": \"UniProt Consortium\"}, \"version\": \"2017-09\", \"license\": \"Creative Commons Attribution-NoDerivs\", \"distribution\": [{\"@type\": \"DataDownload\", \"name\": \"UniParc XML\", \"fileFormat\": \"xml\", \"contentUrl\": \"ftp:/ftp.uniprot.org/pub/databases/uniprot/current_release/uniparc/uniparc_all.xml.gz\"}, {\"@type\": \"DataDownload\", \"name\": \"UniParc FASTA\", \"fileFormat\": \"fasta\", \"contentUrl\": \"ftp:/ftp.uniprot.org/pub/databases/uniprot/current_release/uniparc/uniparc_active.fasta.gz\"}]} does not look like a valid URI, trying to serialize this will break.\n"
     ]
    },
    {
     "ename": "OSError",
     "evalue": "[Errno 63] File name too long: '/Users/justinniestroy-admin/Documents/Work/JSON-Validation/app/{\"@context\": \"http:/schema.org\", \"@type\": \"Dataset\", \"@id\": \"http:/www.uniprot.org/uniparc\", \"name\": \"UniProt Archive (UniParc)\", \"dateCreated\": \"8/17/2016\", \"description\": \"The UniProt Archive (UniParc) is a comprehensive and non-redundant database that contains most of the publicly available protein sequences in the world. Proteins may exist in different source databases and in multiple copies in the same database. UniParc avoided such redundancy by storing each unique sequence only once and giving it a stable and unique identifier (UPI) making it possible to identify the same protein from different source databases. A UPI is never removed, changed or reassigned. UniParc contains only protein sequences. All other information about the protein must be retrieved from the source databases using the database cross-references. UniParc tracks sequence changes in the source databases and archives the history of all changes. UniParc has combined many databases into one at the sequence level and searching UniParc is equivalent to searching many databases simultaneously\", \"url\": \"http:/www.uniprot.org/uniparc\", \"identifier\": \"UniParc\", \"keywords\": \"protein, protein sequence, archive\", \"includedInDataCatalog\": \"http:/www.uniprot.org\", \"creator\": {\"@type\": \"Organization\", \"name\": \"UniProt Consortium\"}, \"version\": \"2017-09\", \"license\": \"Creative Commons Attribution-NoDerivs\", \"distribution\": [{\"@type\": \"DataDownload\", \"name\": \"UniParc XML\", \"fileFormat\": \"xml\", \"contentUrl\": \"ftp:/ftp.uniprot.org/pub/databases/uniprot/current_release/uniparc/uniparc_all.xml.gz\"}, {\"@type\": \"DataDownload\", \"name\": \"UniParc FASTA\", \"fileFormat\": \"fasta\", \"contentUrl\": \"ftp:/ftp.uniprot.org/pub/databases/uniprot/current_release/uniparc/uniparc_active.fasta.gz\"}]}'",
     "output_type": "error",
     "traceback": [
      "\u001b[0;31m---------------------------------------------------------------------------\u001b[0m",
      "\u001b[0;31mOSError\u001b[0m                                   Traceback (most recent call last)",
      "\u001b[0;32m<ipython-input-2-ace9d41d21df>\u001b[0m in \u001b[0;36m<module>\u001b[0;34m\u001b[0m\n\u001b[1;32m     34\u001b[0m }\n\u001b[1;32m     35\u001b[0m \u001b[0mg\u001b[0m \u001b[0;34m=\u001b[0m \u001b[0mrdflib\u001b[0m\u001b[0;34m.\u001b[0m\u001b[0mGraph\u001b[0m\u001b[0;34m(\u001b[0m\u001b[0;34m)\u001b[0m\u001b[0;34m\u001b[0m\u001b[0;34m\u001b[0m\u001b[0m\n\u001b[0;32m---> 36\u001b[0;31m \u001b[0mg\u001b[0m\u001b[0;34m.\u001b[0m\u001b[0mparse\u001b[0m\u001b[0;34m(\u001b[0m\u001b[0mjson\u001b[0m\u001b[0;34m.\u001b[0m\u001b[0mdumps\u001b[0m\u001b[0;34m(\u001b[0m\u001b[0msample_dataset\u001b[0m\u001b[0;34m)\u001b[0m\u001b[0;34m,\u001b[0m\u001b[0mformat\u001b[0m \u001b[0;34m=\u001b[0m \u001b[0;34m\"json-ld\"\u001b[0m\u001b[0;34m,\u001b[0m\u001b[0mcontext\u001b[0m \u001b[0;34m=\u001b[0m \u001b[0;34m{\u001b[0m\u001b[0;34m\"base\"\u001b[0m\u001b[0;34m:\u001b[0m\u001b[0;34m\"http://schema.org/\"\u001b[0m\u001b[0;34m}\u001b[0m\u001b[0;34m)\u001b[0m\u001b[0;34m\u001b[0m\u001b[0;34m\u001b[0m\u001b[0m\n\u001b[0m",
      "\u001b[0;32m/usr/local/lib/python3.7/site-packages/rdflib/graph.py\u001b[0m in \u001b[0;36mparse\u001b[0;34m(self, source, publicID, format, location, file, data, **args)\u001b[0m\n\u001b[1;32m   1032\u001b[0m         source = create_input_source(source=source, publicID=publicID,\n\u001b[1;32m   1033\u001b[0m                                      \u001b[0mlocation\u001b[0m\u001b[0;34m=\u001b[0m\u001b[0mlocation\u001b[0m\u001b[0;34m,\u001b[0m \u001b[0mfile\u001b[0m\u001b[0;34m=\u001b[0m\u001b[0mfile\u001b[0m\u001b[0;34m,\u001b[0m\u001b[0;34m\u001b[0m\u001b[0;34m\u001b[0m\u001b[0m\n\u001b[0;32m-> 1034\u001b[0;31m                                      data=data, format=format)\n\u001b[0m\u001b[1;32m   1035\u001b[0m         \u001b[0;32mif\u001b[0m \u001b[0mformat\u001b[0m \u001b[0;32mis\u001b[0m \u001b[0;32mNone\u001b[0m\u001b[0;34m:\u001b[0m\u001b[0;34m\u001b[0m\u001b[0;34m\u001b[0m\u001b[0m\n\u001b[1;32m   1036\u001b[0m             \u001b[0mformat\u001b[0m \u001b[0;34m=\u001b[0m \u001b[0msource\u001b[0m\u001b[0;34m.\u001b[0m\u001b[0mcontent_type\u001b[0m\u001b[0;34m\u001b[0m\u001b[0;34m\u001b[0m\u001b[0m\n",
      "\u001b[0;32m/usr/local/lib/python3.7/site-packages/rdflib/parser.py\u001b[0m in \u001b[0;36mcreate_input_source\u001b[0;34m(source, publicID, location, file, data, format)\u001b[0m\n\u001b[1;32m    182\u001b[0m         \u001b[0;32mif\u001b[0m \u001b[0mabsolute_location\u001b[0m\u001b[0;34m.\u001b[0m\u001b[0mstartswith\u001b[0m\u001b[0;34m(\u001b[0m\u001b[0;34m\"file:///\"\u001b[0m\u001b[0;34m)\u001b[0m\u001b[0;34m:\u001b[0m\u001b[0;34m\u001b[0m\u001b[0;34m\u001b[0m\u001b[0m\n\u001b[1;32m    183\u001b[0m             \u001b[0mfilename\u001b[0m \u001b[0;34m=\u001b[0m \u001b[0murl2pathname\u001b[0m\u001b[0;34m(\u001b[0m\u001b[0mabsolute_location\u001b[0m\u001b[0;34m.\u001b[0m\u001b[0mreplace\u001b[0m\u001b[0;34m(\u001b[0m\u001b[0;34m\"file:///\"\u001b[0m\u001b[0;34m,\u001b[0m \u001b[0;34m\"/\"\u001b[0m\u001b[0;34m)\u001b[0m\u001b[0;34m)\u001b[0m\u001b[0;34m\u001b[0m\u001b[0;34m\u001b[0m\u001b[0m\n\u001b[0;32m--> 184\u001b[0;31m             \u001b[0mfile\u001b[0m \u001b[0;34m=\u001b[0m \u001b[0mopen\u001b[0m\u001b[0;34m(\u001b[0m\u001b[0mfilename\u001b[0m\u001b[0;34m,\u001b[0m \u001b[0;34m\"rb\"\u001b[0m\u001b[0;34m)\u001b[0m\u001b[0;34m\u001b[0m\u001b[0;34m\u001b[0m\u001b[0m\n\u001b[0m\u001b[1;32m    185\u001b[0m         \u001b[0;32melse\u001b[0m\u001b[0;34m:\u001b[0m\u001b[0;34m\u001b[0m\u001b[0;34m\u001b[0m\u001b[0m\n\u001b[1;32m    186\u001b[0m             \u001b[0minput_source\u001b[0m \u001b[0;34m=\u001b[0m \u001b[0mURLInputSource\u001b[0m\u001b[0;34m(\u001b[0m\u001b[0mabsolute_location\u001b[0m\u001b[0;34m,\u001b[0m \u001b[0mformat\u001b[0m\u001b[0;34m)\u001b[0m\u001b[0;34m\u001b[0m\u001b[0;34m\u001b[0m\u001b[0m\n",
      "\u001b[0;31mOSError\u001b[0m: [Errno 63] File name too long: '/Users/justinniestroy-admin/Documents/Work/JSON-Validation/app/{\"@context\": \"http:/schema.org\", \"@type\": \"Dataset\", \"@id\": \"http:/www.uniprot.org/uniparc\", \"name\": \"UniProt Archive (UniParc)\", \"dateCreated\": \"8/17/2016\", \"description\": \"The UniProt Archive (UniParc) is a comprehensive and non-redundant database that contains most of the publicly available protein sequences in the world. Proteins may exist in different source databases and in multiple copies in the same database. UniParc avoided such redundancy by storing each unique sequence only once and giving it a stable and unique identifier (UPI) making it possible to identify the same protein from different source databases. A UPI is never removed, changed or reassigned. UniParc contains only protein sequences. All other information about the protein must be retrieved from the source databases using the database cross-references. UniParc tracks sequence changes in the source databases and archives the history of all changes. UniParc has combined many databases into one at the sequence level and searching UniParc is equivalent to searching many databases simultaneously\", \"url\": \"http:/www.uniprot.org/uniparc\", \"identifier\": \"UniParc\", \"keywords\": \"protein, protein sequence, archive\", \"includedInDataCatalog\": \"http:/www.uniprot.org\", \"creator\": {\"@type\": \"Organization\", \"name\": \"UniProt Consortium\"}, \"version\": \"2017-09\", \"license\": \"Creative Commons Attribution-NoDerivs\", \"distribution\": [{\"@type\": \"DataDownload\", \"name\": \"UniParc XML\", \"fileFormat\": \"xml\", \"contentUrl\": \"ftp:/ftp.uniprot.org/pub/databases/uniprot/current_release/uniparc/uniparc_all.xml.gz\"}, {\"@type\": \"DataDownload\", \"name\": \"UniParc FASTA\", \"fileFormat\": \"fasta\", \"contentUrl\": \"ftp:/ftp.uniprot.org/pub/databases/uniprot/current_release/uniparc/uniparc_active.fasta.gz\"}]}'"
     ]
    }
   ],
   "source": [
    "import rdflib\n",
    "import json\n",
    "from rdflib import serializer\n",
    "sample_dataset = {\"@context\": \"http://schema.org\",\n",
    "  \"@type\": \"Dataset\",\n",
    "  \"@id\": \"http://www.uniprot.org/uniparc\",\n",
    "  \"name\": \"UniProt Archive (UniParc)\",\n",
    "  \"dateCreated\":\"8/17/2016\",\n",
    "  \"description\": \"The UniProt Archive (UniParc) is a comprehensive and non-redundant database that contains most of the publicly available protein sequences in the world. Proteins may exist in different source databases and in multiple copies in the same database. UniParc avoided such redundancy by storing each unique sequence only once and giving it a stable and unique identifier (UPI) making it possible to identify the same protein from different source databases. A UPI is never removed, changed or reassigned. UniParc contains only protein sequences. All other information about the protein must be retrieved from the source databases using the database cross-references. UniParc tracks sequence changes in the source databases and archives the history of all changes. UniParc has combined many databases into one at the sequence level and searching UniParc is equivalent to searching many databases simultaneously\",\n",
    "  \"url\": \"http://www.uniprot.org/uniparc\",\n",
    "  \"identifier\": \"UniParc\",\n",
    "  \"keywords\": \"protein, protein sequence, archive\",\n",
    "  \"includedInDataCatalog\": \"http://www.uniprot.org\",\n",
    "  \"creator\": {\n",
    "    \"@type\": \"Organization\",\n",
    "    \"name\": \"UniProt Consortium\"\n",
    "  },\n",
    "  \"version\": \"2017-09\",\n",
    "  \"license\": \"Creative Commons Attribution-NoDerivs\",\n",
    "  \"distribution\": [\n",
    "    {\n",
    "      \"@type\": \"DataDownload\",\n",
    "      \"name\": \"UniParc XML\",\n",
    "      \"fileFormat\": \"xml\",\n",
    "      \"contentUrl\": \"ftp://ftp.uniprot.org/pub/databases/uniprot/current_release/uniparc/uniparc_all.xml.gz\"\n",
    "    },\n",
    "    {\n",
    "      \"@type\": \"DataDownload\",\n",
    "      \"name\": \"UniParc FASTA\",\n",
    "      \"fileFormat\": \"fasta\",\n",
    "      \"contentUrl\": \"ftp://ftp.uniprot.org/pub/databases/uniprot/current_release/uniparc/uniparc_active.fasta.gz\"\n",
    "    }\n",
    "  ]\n",
    "}\n",
    "g = rdflib.Graph()\n",
    "g.parse(json.dumps(sample_dataset),format = \"json-ld\",context = {\"base\":\"http://schema.org/\"})\n"
   ]
  },
  {
   "cell_type": "code",
   "execution_count": null,
   "metadata": {},
   "outputs": [],
   "source": []
  }
 ],
 "metadata": {
  "kernelspec": {
   "display_name": "Python 3",
   "language": "python",
   "name": "python3"
  },
  "language_info": {
   "codemirror_mode": {
    "name": "ipython",
    "version": 3
   },
   "file_extension": ".py",
   "mimetype": "text/x-python",
   "name": "python",
   "nbconvert_exporter": "python",
   "pygments_lexer": "ipython3",
   "version": "3.7.4"
  }
 },
 "nbformat": 4,
 "nbformat_minor": 2
}
