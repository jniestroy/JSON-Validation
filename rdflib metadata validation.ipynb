{
 "cells": [
  {
   "cell_type": "code",
   "execution_count": 1,
   "metadata": {},
   "outputs": [],
   "source": [
    "import rdflib\n",
    "#from owlrl import DeductiveClosure, RDFS_Semantics\n",
    "import json\n"
   ]
  },
  {
   "cell_type": "code",
   "execution_count": 2,
   "metadata": {},
   "outputs": [],
   "source": [
    "with open(\"./app/static/schema.jsonld\", \"rb\") as file:\n",
    "    schema_rdfs = json.loads(file.read())"
   ]
  },
  {
   "cell_type": "code",
   "execution_count": 4,
   "metadata": {},
   "outputs": [],
   "source": [
    "g = rdflib.Graph().parse(data = json.dumps(schema_rdfs.get(\"@graph\")), \n",
    "                  context=schema_rdfs.get(\"@context\"), format=\"json-ld\")"
   ]
  },
  {
   "cell_type": "code",
   "execution_count": null,
   "metadata": {},
   "outputs": [],
   "source": [
    "# DeductiveClosure(RDFS_Semantics).expand(g)"
   ]
  },
  {
   "cell_type": "code",
   "execution_count": 5,
   "metadata": {},
   "outputs": [
    {
     "data": {
      "text/plain": [
       "[rdflib.term.URIRef('http://schema.org/Dataset'),\n",
       " rdflib.term.URIRef('http://schema.org/CreativeWork'),\n",
       " rdflib.term.URIRef('http://schema.org/Thing')]"
      ]
     },
     "execution_count": 5,
     "metadata": {},
     "output_type": "execute_result"
    }
   ],
   "source": [
    "[f for f in g.transitive_objects(\n",
    "    rdflib.term.URIRef(\"http://schema.org/Dataset\"), \n",
    "    rdflib.term.URIRef('http://www.w3.org/2000/01/rdf-schema#subClassOf'))]"
   ]
  },
  {
   "cell_type": "code",
   "execution_count": 6,
   "metadata": {},
   "outputs": [
    {
     "data": {
      "text/plain": [
       "[rdflib.term.URIRef('http://schema.org/Dataset'),\n",
       " rdflib.term.URIRef('http://schema.org/includedInDataCatalog'),\n",
       " rdflib.term.URIRef('http://schema.org/includedDataCatalog'),\n",
       " rdflib.term.URIRef('http://schema.org/issn'),\n",
       " rdflib.term.URIRef('http://schema.org/datasetTimeInterval'),\n",
       " rdflib.term.URIRef('http://schema.org/catalog'),\n",
       " rdflib.term.URIRef('http://schema.org/distribution')]"
      ]
     },
     "execution_count": 6,
     "metadata": {},
     "output_type": "execute_result"
    }
   ],
   "source": [
    "[found for found in g.transitive_subjects(\n",
    "    rdflib.term.URIRef(\"http://schema.org/domainIncludes\"), \n",
    "    rdflib.term.URIRef(\"http://schema.org/Dataset\"))]"
   ]
  },
  {
   "cell_type": "code",
   "execution_count": null,
   "metadata": {},
   "outputs": [],
   "source": []
  }
 ],
 "metadata": {
  "kernelspec": {
   "display_name": "Python 3",
   "language": "python",
   "name": "python3"
  },
  "language_info": {
   "codemirror_mode": {
    "name": "ipython",
    "version": 3
   },
   "file_extension": ".py",
   "mimetype": "text/x-python",
   "name": "python",
   "nbconvert_exporter": "python",
   "pygments_lexer": "ipython3",
   "version": "3.7.0"
  }
 },
 "nbformat": 4,
 "nbformat_minor": 2
}
