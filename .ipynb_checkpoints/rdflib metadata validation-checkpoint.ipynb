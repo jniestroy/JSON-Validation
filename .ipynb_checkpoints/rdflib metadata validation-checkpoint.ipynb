{
 "cells": [
  {
   "cell_type": "code",
   "execution_count": 1,
   "metadata": {},
   "outputs": [],
   "source": [
    "import rdflib\n",
    "#from owlrl import DeductiveClosure, RDFS_Semantics\n",
    "import json\n"
   ]
  },
  {
   "cell_type": "code",
   "execution_count": 2,
   "metadata": {},
   "outputs": [],
   "source": [
    "with open(\"./app/static/schema.jsonld\", \"rb\") as file:\n",
    "    schema_rdfs = json.loads(file.read())"
   ]
  },
  {
   "cell_type": "code",
   "execution_count": 3,
   "metadata": {},
   "outputs": [],
   "source": [
    "g = rdflib.Graph().parse(data = json.dumps(schema_rdfs.get(\"@graph\")), \n",
    "                  context=schema_rdfs.get(\"@context\"), format=\"json-ld\")"
   ]
  },
  {
   "cell_type": "code",
   "execution_count": 4,
   "metadata": {},
   "outputs": [],
   "source": [
    "# DeductiveClosure(RDFS_Semantics).expand(g)"
   ]
  },
  {
   "cell_type": "code",
   "execution_count": 9,
   "metadata": {},
   "outputs": [],
   "source": [
    "subClasses = [f for f in g.transitive_objects(\n",
    "    rdflib.term.URIRef(\"http://schema.org/Dataset\"), \n",
    "    rdflib.term.URIRef('http://www.w3.org/2000/01/rdf-schema#subClassOf'))]"
   ]
  },
  {
   "cell_type": "code",
   "execution_count": 4,
   "metadata": {},
   "outputs": [
    {
     "data": {
      "text/plain": [
       "[rdflib.term.URIRef('http://schema.org/Dataset'),\n",
       " rdflib.term.URIRef('http://schema.org/catalog'),\n",
       " rdflib.term.URIRef('http://schema.org/issn'),\n",
       " rdflib.term.URIRef('http://schema.org/datasetTimeInterval'),\n",
       " rdflib.term.URIRef('http://schema.org/includedInDataCatalog'),\n",
       " rdflib.term.URIRef('http://schema.org/includedDataCatalog'),\n",
       " rdflib.term.URIRef('http://schema.org/distribution')]"
      ]
     },
     "execution_count": 4,
     "metadata": {},
     "output_type": "execute_result"
    }
   ],
   "source": [
    "[found for found in g.transitive_subjects(\n",
    "    rdflib.term.URIRef(\"http://schema.org/domainIncludes\"), \n",
    "    rdflib.term.URIRef(\"http://schema.org/Dataset\"))]"
   ]
  },
  {
   "cell_type": "code",
   "execution_count": 25,
   "metadata": {},
   "outputs": [
    {
     "data": {
      "text/plain": [
       "[rdflib.term.URIRef('http://schema.org/author')]"
      ]
     },
     "execution_count": 25,
     "metadata": {},
     "output_type": "execute_result"
    }
   ],
   "source": [
    "[found for found in g.transitive_subjects(\n",
    "    rdflib.term.URIRef(\"http://schema.org/rangeIncludes\"), \n",
    "    rdflib.term.URIRef(\"http://schema.org/author\"))]"
   ]
  },
  {
   "cell_type": "code",
   "execution_count": 5,
   "metadata": {},
   "outputs": [],
   "source": [
    "classes = [ elem.get(\"@id\") for elem in schema_rdfs['@graph'] if elem.get(\"@type\") == \"rdfs:Class\" ]\n",
    "properties = [ elem.get(\"@id\") for elem in schema_rdfs['@graph'] if elem.get(\"@type\") == \"rdf:Property\" ]\n",
    "\n",
    "#schema = { elem.get(\"@id\"): elem for elem in schema_rdfs}\n",
    "\n",
    "schema_properties = {}\n",
    "for clas in classes:\n",
    "    schema_properties[clas] = []\n",
    "    superClasses = [f for f in g.transitive_objects(\n",
    "        rdflib.term.URIRef(clas), \n",
    "        rdflib.term.URIRef('http://www.w3.org/2000/01/rdf-schema#subClassOf'))]\n",
    "    for superClass in superClasses:\n",
    "        schema_properties[clas].extend([str(found) for found in g.transitive_subjects(\n",
    "                                                                    rdflib.term.URIRef(\"http://schema.org/domainIncludes\"), \n",
    "                                                                    rdflib.term.URIRef(superClass))])"
   ]
  },
  {
   "cell_type": "code",
   "execution_count": 6,
   "metadata": {},
   "outputs": [
    {
     "data": {
      "text/plain": [
       "['http://schema.org/Dataset',\n",
       " 'http://schema.org/catalog',\n",
       " 'http://schema.org/datasetTimeInterval',\n",
       " 'http://schema.org/distribution',\n",
       " 'http://schema.org/includedDataCatalog',\n",
       " 'http://schema.org/includedInDataCatalog',\n",
       " 'http://schema.org/issn',\n",
       " 'http://schema.org/CreativeWork',\n",
       " 'http://schema.org/contributor',\n",
       " 'http://schema.org/locationCreated',\n",
       " 'http://schema.org/audience',\n",
       " 'http://schema.org/encodings',\n",
       " 'http://schema.org/mentions',\n",
       " 'http://schema.org/position',\n",
       " 'http://schema.org/interactionStatistic',\n",
       " 'http://schema.org/review',\n",
       " 'http://schema.org/isAccessibleForFree',\n",
       " 'http://schema.org/encoding',\n",
       " 'http://schema.org/provider',\n",
       " 'http://schema.org/award',\n",
       " 'http://schema.org/producer',\n",
       " 'http://schema.org/recordedAt',\n",
       " 'http://schema.org/releasedEvent',\n",
       " 'http://schema.org/accessModeSufficient',\n",
       " 'http://schema.org/license',\n",
       " 'http://schema.org/contentLocation',\n",
       " 'http://schema.org/awards',\n",
       " 'http://schema.org/text',\n",
       " 'http://schema.org/interactivityType',\n",
       " 'http://schema.org/publication',\n",
       " 'http://schema.org/offers',\n",
       " 'http://schema.org/comment',\n",
       " 'http://schema.org/funder',\n",
       " 'http://schema.org/accessMode',\n",
       " 'http://schema.org/educationalAlignment',\n",
       " 'http://schema.org/dateModified',\n",
       " 'http://schema.org/accessibilityControl',\n",
       " 'http://schema.org/aggregateRating',\n",
       " 'http://schema.org/genre',\n",
       " 'http://schema.org/copyrightHolder',\n",
       " 'http://schema.org/isBasedOnUrl',\n",
       " 'http://schema.org/thumbnailUrl',\n",
       " 'http://schema.org/citation',\n",
       " 'http://schema.org/creator',\n",
       " 'http://schema.org/encodingFormat',\n",
       " 'http://schema.org/audio',\n",
       " 'http://schema.org/isFamilyFriendly',\n",
       " 'http://schema.org/author',\n",
       " 'http://schema.org/video',\n",
       " 'http://schema.org/accessibilitySummary',\n",
       " 'http://schema.org/accountablePerson',\n",
       " 'http://schema.org/material',\n",
       " 'http://schema.org/sponsor',\n",
       " 'http://schema.org/timeRequired',\n",
       " 'http://schema.org/temporal',\n",
       " 'http://schema.org/accessibilityAPI',\n",
       " 'http://schema.org/inLanguage',\n",
       " 'http://schema.org/isPartOf',\n",
       " 'http://schema.org/isBasedOn',\n",
       " 'http://schema.org/expires',\n",
       " 'http://schema.org/hasPart',\n",
       " 'http://schema.org/sourceOrganization',\n",
       " 'http://schema.org/publisher',\n",
       " 'http://schema.org/reviews',\n",
       " 'http://schema.org/accessibilityHazard',\n",
       " 'http://schema.org/keywords',\n",
       " 'http://schema.org/workExample',\n",
       " 'http://schema.org/typicalAgeRange',\n",
       " 'http://schema.org/learningResourceType',\n",
       " 'http://schema.org/alternativeHeadline',\n",
       " 'http://schema.org/version',\n",
       " 'http://schema.org/commentCount',\n",
       " 'http://schema.org/spatial',\n",
       " 'http://schema.org/spatialCoverage',\n",
       " 'http://schema.org/character',\n",
       " 'http://schema.org/publishingPrinciples',\n",
       " 'http://schema.org/discussionUrl',\n",
       " 'http://schema.org/educationalUse',\n",
       " 'http://schema.org/accessibilityFeature',\n",
       " 'http://schema.org/contentRating',\n",
       " 'http://schema.org/dateCreated',\n",
       " 'http://schema.org/editor',\n",
       " 'http://schema.org/schemaVersion',\n",
       " 'http://schema.org/mainEntity',\n",
       " 'http://schema.org/fileFormat',\n",
       " 'http://schema.org/associatedMedia',\n",
       " 'http://schema.org/translator',\n",
       " 'http://schema.org/datePublished',\n",
       " 'http://schema.org/copyrightYear',\n",
       " 'http://schema.org/exampleOfWork',\n",
       " 'http://schema.org/temporalCoverage',\n",
       " 'http://schema.org/headline',\n",
       " 'http://schema.org/about',\n",
       " 'http://schema.org/Thing',\n",
       " 'http://schema.org/additionalType',\n",
       " 'http://schema.org/sameAs',\n",
       " 'http://schema.org/description',\n",
       " 'http://schema.org/potentialAction',\n",
       " 'http://schema.org/identifier',\n",
       " 'http://schema.org/disambiguatingDescription',\n",
       " 'http://schema.org/url',\n",
       " 'http://schema.org/subjectOf',\n",
       " 'http://schema.org/alternateName',\n",
       " 'http://schema.org/image',\n",
       " 'http://schema.org/mainEntityOfPage',\n",
       " 'http://schema.org/name']"
      ]
     },
     "execution_count": 6,
     "metadata": {},
     "output_type": "execute_result"
    }
   ],
   "source": [
    "schema_properties[\"http://schema.org/Dataset\"]"
   ]
  },
  {
   "cell_type": "code",
   "execution_count": 15,
   "metadata": {},
   "outputs": [],
   "source": [
    "schema_property_ranges = {}\n",
    "for prop in properties:\n",
    "    schema_property_ranges[prop] = [str(f) for f in g.transitive_objects(\n",
    "                                                        rdflib.term.URIRef(prop), \n",
    "                                                        rdflib.term.URIRef(\"http://schema.org/rangeIncludes\"))]\n",
    "     # #This is to ensure all super classes are included as allowed types\n",
    "    for clas in self.schema_property_ranges[prop]:\n",
    "        if clas == prop:\n",
    "            continue\n",
    "        supers = [str(f) for f in g.transitive_objects(\n",
    "                                                        rdflib.term.URIRef(clas), \n",
    "                                                        rdflib.term.URIRef('http://www.w3.org/2000/01/rdf-schema#subClassOf'))]\n",
    "\n"
   ]
  },
  {
   "cell_type": "code",
   "execution_count": 19,
   "metadata": {},
   "outputs": [
    {
     "data": {
      "text/plain": [
       "['http://schema.org/alumniOf',\n",
       " 'http://schema.org/EducationalOrganization',\n",
       " 'http://schema.org/Organization']"
      ]
     },
     "execution_count": 19,
     "metadata": {},
     "output_type": "execute_result"
    }
   ],
   "source": [
    "schema_property_ranges[\"http://schema.org/alumniOf\"]"
   ]
  },
  {
   "cell_type": "code",
   "execution_count": 17,
   "metadata": {},
   "outputs": [
    {
     "data": {
      "text/plain": [
       "[rdflib.term.URIRef('http://schema.org/alumniOf')]"
      ]
     },
     "execution_count": 17,
     "metadata": {},
     "output_type": "execute_result"
    }
   ],
   "source": [
    "[f for f in g.transitive_objects(\n",
    "    rdflib.term.URIRef(\"http://schema.org/alumniOf\"), \n",
    "    rdflib.term.URIRef('http://www.w3.org/2000/01/rdf-schema#subClassOf'))]"
   ]
  },
  {
   "cell_type": "code",
   "execution_count": 21,
   "metadata": {},
   "outputs": [
    {
     "name": "stdout",
     "output_type": "stream",
     "text": [
      "http://schema.org/alumniOf\n",
      "http://schema.org/EducationalOrganization\n",
      "http://schema.org/Organization\n"
     ]
    }
   ],
   "source": [
    "for clas in schema_property_ranges['http://schema.org/alumniOf']:\n",
    "    print(clas)\n",
    "    if clas == prop:\n",
    "        continue\n",
    "    supers = [str(f) for f in g.transitive_objects(\n",
    "                                                    rdflib.term.URIRef(clas), \n",
    "                                                    rdflib.term.URIRef('http://www.w3.org/2000/01/rdf-schema#subClassOf'))]"
   ]
  },
  {
   "cell_type": "code",
   "execution_count": 22,
   "metadata": {},
   "outputs": [],
   "source": [
    "schema_property_ranges[\"http://schema.org/alumniOf\"].extend(supers)"
   ]
  },
  {
   "cell_type": "code",
   "execution_count": 24,
   "metadata": {},
   "outputs": [
    {
     "data": {
      "text/plain": [
       "['http://schema.org/alumniOf',\n",
       " 'http://schema.org/EducationalOrganization',\n",
       " 'http://schema.org/Organization',\n",
       " rdflib.term.URIRef('http://schema.org/Organization'),\n",
       " rdflib.term.URIRef('http://schema.org/Thing')]"
      ]
     },
     "execution_count": 24,
     "metadata": {},
     "output_type": "execute_result"
    }
   ],
   "source": [
    "schema_property_ranges[\"http://schema.org/alumniOf\"]"
   ]
  },
  {
   "cell_type": "code",
   "execution_count": null,
   "metadata": {},
   "outputs": [],
   "source": []
  }
 ],
 "metadata": {
  "kernelspec": {
   "display_name": "Python 3",
   "language": "python",
   "name": "python3"
  },
  "language_info": {
   "codemirror_mode": {
    "name": "ipython",
    "version": 3
   },
   "file_extension": ".py",
   "mimetype": "text/x-python",
   "name": "python",
   "nbconvert_exporter": "python",
   "pygments_lexer": "ipython3",
   "version": "3.6.8"
  }
 },
 "nbformat": 4,
 "nbformat_minor": 2
}
